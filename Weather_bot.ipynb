{
  "nbformat": 4,
  "nbformat_minor": 0,
  "metadata": {
    "colab": {
      "provenance": [],
      "authorship_tag": "ABX9TyP9tMGOjRdnjX4ltWFKBRJE",
      "include_colab_link": true
    },
    "kernelspec": {
      "name": "python3",
      "display_name": "Python 3"
    },
    "language_info": {
      "name": "python"
    }
  },
  "cells": [
    {
      "cell_type": "markdown",
      "metadata": {
        "id": "view-in-github",
        "colab_type": "text"
      },
      "source": [
        "<a href=\"https://colab.research.google.com/github/sam-aiden/ChatBots/blob/main/Weather_bot.ipynb\" target=\"_parent\"><img src=\"https://colab.research.google.com/assets/colab-badge.svg\" alt=\"Open In Colab\"/></a>"
      ]
    },
    {
      "cell_type": "code",
      "execution_count": 1,
      "metadata": {
        "colab": {
          "base_uri": "https://localhost:8080/"
        },
        "id": "t8UUNsiFVMnO",
        "outputId": "e77d87a8-406f-4171-f0d7-158b5dc42bf5"
      },
      "outputs": [
        {
          "output_type": "stream",
          "name": "stdout",
          "text": [
            "hello world!\n"
          ]
        }
      ],
      "source": [
        "print(\"hello world!\")"
      ]
    },
    {
      "cell_type": "code",
      "source": [
        "import requests\n",
        "API_KEY ='5ffd9cc595983d3e4a3ad1fb219875db'\n",
        "BASE_URL = 'http://api.openweathermap.org/data/2.5/weather?'\n",
        "\n",
        "\n",
        "\n",
        "def get_weather(city):\n",
        "  url = BASE_URL + \"q=\" + city + \"&appid=\" + API_KEY + \"&units=metric\"\n",
        "  response = requests.get(url)\n",
        "\n",
        "  if response.status_code == 200:\n",
        "    data = response.json()\n",
        "    main = data['main']\n",
        "    wind = data['wind']\n",
        "    weather = data['weather'][0]['description']\n",
        "    temperature = data['temp']\n",
        "    wind_speed = data['wind_speed']\n",
        "    humidity = data['humidity']\n",
        "\n",
        "    return f'Weather in {city.capitalize()}:\\nTemperature:{temperature}°C\\nWeather:{weather.capitalize}\\nWind_speed:{wind_speed} m\\s'\n",
        "  else:\n",
        "    return f'Error: {response.status_code}'\n",
        "\n",
        "def weather_chatbot():\n",
        "  print(\"Welcome to the Weather Chatbot! Type 'quit' to exist\")\n",
        "\n",
        "  while True:\n",
        "    city =input('You: ')\n",
        "\n",
        "    if city.lower() == 'quit':\n",
        "      print(\"Chatbot: Goodbye! Have a great day!\")\n",
        "      break\n",
        "\n",
        "    weather_info = get_weather(city)\n",
        "    print(f'Chatbot: {weather_info}')\n",
        "\n",
        "if __name__ == '__main__':\n",
        "  weather_chatbot()"
      ],
      "metadata": {
        "colab": {
          "base_uri": "https://localhost:8080/"
        },
        "id": "ODWlj6yDZSGS",
        "outputId": "cedb76ed-3151-4c45-c69c-b60cfbae0048"
      },
      "execution_count": 13,
      "outputs": [
        {
          "output_type": "stream",
          "name": "stdout",
          "text": [
            "Welcome to the Weather Chatbot! Type 'quit' to exist\n",
            "You: chennai\n",
            "Chatbot: Error: 401\n",
            "You: quit\n",
            "Chatbot: Goodbye! Have a great day!\n"
          ]
        }
      ]
    },
    {
      "cell_type": "code",
      "source": [
        "import sys\n",
        "import math\n",
        "import requests\n",
        "\n",
        "base_url = 'http://api.openweathermap.org/data/2.5/weather'\n",
        "api_key = '5ffd9cc595983d3e4a3ad1fb219875db'  # Enter your API key here\n",
        "cities = ['Esztergom', 'London, UK']\n",
        "\n",
        "def get_temperature(city):\n",
        "    query = base_url + '?q=%s&units=metric&APPID=%s' % (city, api_key)\n",
        "    try:\n",
        "        response = requests.get(query)\n",
        "        if response.status_code != 200:\n",
        "            response = 'N/A'\n",
        "            return response\n",
        "        else:\n",
        "            weather_data = response.json()\n",
        "            return weather_data\n",
        "    except requests.exceptions.RequestException as error:\n",
        "        print(error)\n",
        "        sys.exit(1)\n",
        "\n",
        "def main():\n",
        "    for city in cities:\n",
        "        location = get_temperature(city)\n",
        "        if location != 'N/A':\n",
        "            print(location['name'] + ' ' + str(math.ceil(location['main']['temp'])) + ' C (' + str(location['main']['temp']) + ')')\n",
        "        else:\n",
        "            print(f\"Could not retrieve weather data for {city}\")\n",
        "\n",
        "if __name__ == '__main__':\n",
        "    main()\n"
      ],
      "metadata": {
        "colab": {
          "base_uri": "https://localhost:8080/"
        },
        "id": "HviXJqHkbX7V",
        "outputId": "d7efcac2-2578-47fe-b3e6-393c37ddbbef"
      },
      "execution_count": 14,
      "outputs": [
        {
          "output_type": "stream",
          "name": "stdout",
          "text": [
            "Esztergom 14 C (13.16)\n",
            "London 18 C (17.52)\n"
          ]
        }
      ]
    },
    {
      "cell_type": "code",
      "source": [
        "import requests\n",
        "\n",
        "API_KEY = '5ffd9cc595983d3e4a3ad1fb219875db'\n",
        "BASE_URL = 'https://api.openweathermap.org/data/2.5/weather'\n",
        "\n",
        "\n",
        "def get_weather(city):\n",
        "    url = f'{BASE_URL}?q={city}&units=metric&appid={API_KEY}'\n",
        "    response = requests.get(url)\n",
        "\n",
        "    if response.status_code == 200:\n",
        "        data = response.json()\n",
        "        main = data['main']\n",
        "        wind = data['wind']\n",
        "        weather = data['weather'][0]['description']\n",
        "        temperature = main['temp']\n",
        "        wind_speed = wind['speed']\n",
        "        humidity = main['humidity']\n",
        "\n",
        "        return f'Weather in {city.capitalize()}:\\nTemperature: {temperature}°C\\nWeather: {weather.capitalize()}\\nWind Speed: {wind_speed} m/s\\nHumidity: {humidity}%'\n",
        "    else:\n",
        "        return f'Error: Unable to fetch weather data for {city}. (Status code: {response.status_code})'\n",
        "\n",
        "\n",
        "def weather_chatbot():\n",
        "    print(\"Welcome to the Weather Chatbot! Type 'quit' to exit.\")\n",
        "\n",
        "    while True:\n",
        "        city = input('You: ')\n",
        "\n",
        "        if city.lower() == 'quit':\n",
        "            print(\"Chatbot: Goodbye! Have a great day!\")\n",
        "            break\n",
        "\n",
        "        weather_info = get_weather(city)\n",
        "        print(f'Chatbot: {weather_info}')\n",
        "        for i in range(2):\n",
        "              print()\n",
        "\n",
        "\n",
        "if __name__ == '__main__':\n",
        "    weather_chatbot()\n"
      ],
      "metadata": {
        "colab": {
          "base_uri": "https://localhost:8080/"
        },
        "id": "jwZylpeChbjF",
        "outputId": "9cb1082a-66b2-4dc0-d62b-396ee01ea021"
      },
      "execution_count": 17,
      "outputs": [
        {
          "output_type": "stream",
          "name": "stdout",
          "text": [
            "Welcome to the Weather Chatbot! Type 'quit' to exit.\n",
            "You: manila\n",
            "Chatbot: Weather in Manila:\n",
            "Temperature: 29.51°C\n",
            "Weather: Light intensity shower rain\n",
            "Wind Speed: 4.12 m/s\n",
            "Humidity: 82%\n",
            "\n",
            "\n",
            "\n",
            "You: quit\n",
            "Chatbot: Goodbye! Have a great day!\n"
          ]
        }
      ]
    }
  ]
}