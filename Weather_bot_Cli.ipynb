{
  "nbformat": 4,
  "nbformat_minor": 0,
  "metadata": {
    "colab": {
      "provenance": [],
      "authorship_tag": "ABX9TyOUiImf21uaBswdKX27afsq",
      "include_colab_link": true
    },
    "kernelspec": {
      "name": "python3",
      "display_name": "Python 3"
    },
    "language_info": {
      "name": "python"
    }
  },
  "cells": [
    {
      "cell_type": "markdown",
      "metadata": {
        "id": "view-in-github",
        "colab_type": "text"
      },
      "source": [
        "<a href=\"https://colab.research.google.com/github/sam-aiden/ChatBots/blob/main/Weather_bot.ipynb\" target=\"_parent\"><img src=\"https://colab.research.google.com/assets/colab-badge.svg\" alt=\"Open In Colab\"/></a>"
      ]
    },
    {
      "cell_type": "code",
      "source": [
        "import requests\n",
        "\n",
        "API_KEY = '5ffd9cc595983d3e4a3ad1fb219875db'\n",
        "BASE_URL = 'https://api.openweathermap.org/data/2.5/weather'\n",
        "\n",
        "\n",
        "def get_weather(city):\n",
        "    url = f'{BASE_URL}?q={city}&units=metric&appid={API_KEY}'\n",
        "    response = requests.get(url)\n",
        "\n",
        "    if response.status_code == 200:\n",
        "        data = response.json()\n",
        "        main = data['main']\n",
        "        wind = data['wind']\n",
        "        weather = data['weather'][0]['description']\n",
        "        temperature = main['temp']\n",
        "        wind_speed = wind['speed']\n",
        "        humidity = main['humidity']\n",
        "\n",
        "        return f'Weather in {city.capitalize()}:\\nTemperature: {temperature}°C\\nWeather: {weather.capitalize()}\\nWind Speed: {wind_speed} m/s\\nHumidity: {humidity}%'\n",
        "    else:\n",
        "        return f'Error: Unable to fetch weather data for {city}. (Status code: {response.status_code})'\n",
        "\n",
        "\n",
        "def weather_chatbot():\n",
        "    print(\"Welcome to the Weather Chatbot! Type 'quit' to exit.\")\n",
        "\n",
        "    while True:\n",
        "        city = input('You: ')\n",
        "\n",
        "        if city.lower() == 'quit':\n",
        "            print(\"Chatbot: Goodbye! Have a great day!\")\n",
        "            break\n",
        "\n",
        "        weather_info = get_weather(city)\n",
        "        print(f'Chatbot: {weather_info}')\n",
        "        for i in range(2):\n",
        "              print()\n",
        "\n",
        "\n",
        "if __name__ == '__main__':\n",
        "    weather_chatbot()\n"
      ],
      "metadata": {
        "colab": {
          "base_uri": "https://localhost:8080/"
        },
        "id": "jwZylpeChbjF",
        "outputId": "15886f16-19d5-45a8-a43d-85dde339a111"
      },
      "execution_count": null,
      "outputs": [
        {
          "output_type": "stream",
          "name": "stdout",
          "text": [
            "Welcome to the Weather Chatbot! Type 'quit' to exit.\n",
            "You: vietnam\n",
            "Chatbot: Weather in Vietnam:\n",
            "Temperature: 22.98°C\n",
            "Weather: Scattered clouds\n",
            "Wind Speed: 0.74 m/s\n",
            "Humidity: 96%\n",
            "\n",
            "\n",
            "You: philippines\n",
            "Chatbot: Weather in Philippines:\n",
            "Temperature: 28.67°C\n",
            "Weather: Overcast clouds\n",
            "Wind Speed: 3.31 m/s\n",
            "Humidity: 76%\n",
            "\n",
            "\n",
            "You: myanmar\n",
            "Chatbot: Weather in Myanmar:\n",
            "Temperature: 21.94°C\n",
            "Weather: Broken clouds\n",
            "Wind Speed: 0.64 m/s\n",
            "Humidity: 94%\n",
            "\n",
            "\n",
            "You: brazil\n",
            "Chatbot: Weather in Brazil:\n",
            "Temperature: 14.2°C\n",
            "Weather: Clear sky\n",
            "Wind Speed: 2.06 m/s\n",
            "Humidity: 87%\n",
            "\n",
            "\n",
            "You: quit\n",
            "Chatbot: Goodbye! Have a great day!\n"
          ]
        }
      ]
    }
  ]
}
