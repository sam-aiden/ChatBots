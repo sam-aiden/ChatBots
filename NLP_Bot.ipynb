{
  "nbformat": 4,
  "nbformat_minor": 0,
  "metadata": {
    "colab": {
      "provenance": [],
      "authorship_tag": "ABX9TyNT+xjxia4TOIJ450LtRHao",
      "include_colab_link": true
    },
    "kernelspec": {
      "name": "python3",
      "display_name": "Python 3"
    },
    "language_info": {
      "name": "python"
    }
  },
  "cells": [
    {
      "cell_type": "markdown",
      "metadata": {
        "id": "view-in-github",
        "colab_type": "text"
      },
      "source": [
        "<a href=\"https://colab.research.google.com/github/sam-aiden/ChatBots/blob/main/NLP_Bot.ipynb\" target=\"_parent\"><img src=\"https://colab.research.google.com/assets/colab-badge.svg\" alt=\"Open In Colab\"/></a>"
      ]
    },
    {
      "cell_type": "code",
      "execution_count": null,
      "metadata": {
        "colab": {
          "base_uri": "https://localhost:8080/"
        },
        "id": "6y5AjNQMWl45",
        "outputId": "e86ffe71-2e52-41b9-ff7d-7fe100eb80f3"
      },
      "outputs": [
        {
          "output_type": "stream",
          "name": "stdout",
          "text": [
            "Chatbot: Hi! Type something to start chatting with me, or type 'bye' to exit.\n",
            ">bye\n",
            "Goodbye!\n"
          ]
        }
      ],
      "source": [
        "import nltk\n",
        "from nltk.chat.util import Chat, reflections\n",
        "\n",
        "# Define the conversation pairs\n",
        "pairs = [\n",
        "    (r'hello|hi', ['Hello!', 'Hi there!']),\n",
        "    (r'how are you?', ['I\\'m doing great, thank you! How about you?']),\n",
        "    (r'i\\'m (.*)', ['Glad to hear you\\'re %1!', 'Good to know that you\\'re %1!']),\n",
        "    (r'what\\'s your name\\?|what is your name\\?', ['My name is Bot.', 'I am a simple chatbot.']),\n",
        "    (r'thank you|thanks a lot', ['You\\'re welcome!', 'No problem, happy to help!']),\n",
        "    (r'bye', ['Goodbye!', 'See you soon!']),\n",
        "]\n",
        "\n",
        "# Create the chatbot\n",
        "chatbot = Chat(pairs, reflections)\n",
        "\n",
        "# Start the conversation\n",
        "print(\"Chatbot: Hi! Type something to start chatting with me, or type 'bye' to exit.\")\n",
        "chatbot.converse()\n"
      ]
    }
  ]
}