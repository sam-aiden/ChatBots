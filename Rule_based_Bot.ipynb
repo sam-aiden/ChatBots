{
  "nbformat": 4,
  "nbformat_minor": 0,
  "metadata": {
    "colab": {
      "provenance": [],
      "authorship_tag": "ABX9TyNj+tw0WDOmkbbZS0oBfveu",
      "include_colab_link": true
    },
    "kernelspec": {
      "name": "python3",
      "display_name": "Python 3"
    },
    "language_info": {
      "name": "python"
    }
  },
  "cells": [
    {
      "cell_type": "markdown",
      "metadata": {
        "id": "view-in-github",
        "colab_type": "text"
      },
      "source": [
        "<a href=\"https://colab.research.google.com/github/sam-aiden/ChatBots/blob/main/Rule_based_Bot.ipynb\" target=\"_parent\"><img src=\"https://colab.research.google.com/assets/colab-badge.svg\" alt=\"Open In Colab\"/></a>"
      ]
    },
    {
      "cell_type": "code",
      "execution_count": 1,
      "metadata": {
        "colab": {
          "base_uri": "https://localhost:8080/"
        },
        "id": "P0hXapgmVYio",
        "outputId": "62bc6d47-9cfc-4552-e484-c58a579e8c8c"
      },
      "outputs": [
        {
          "output_type": "stream",
          "name": "stdout",
          "text": [
            "you: bye\n",
            "bot: bye\n"
          ]
        }
      ],
      "source": [
        "import random as rd\n",
        "\n",
        "responses = {\n",
        "    'hi':['hello','how can i help u?'],\n",
        "    'how are you':['i am fine','im good','good thanks for asking'],\n",
        "    'your name':['im just a bot','im your friendly chatbot'],\n",
        "    'thank you':['you\\'re welcome','don\\'t mention']\n",
        "\n",
        "}\n",
        "\n",
        "def response(user_input):\n",
        "  user_input = user_input.lower()\n",
        "  if user_input in responses:\n",
        "    return rd.choice(responses[user_input])\n",
        "  else:\n",
        "    return 'i dont understand'\n",
        "\n",
        "while True:\n",
        "  user_input = input('you: ')\n",
        "  if user_input == 'bye':\n",
        "    print('bot: bye')\n",
        "    break\n",
        "  print('bot: ',response(user_input))"
      ]
    }
  ]
}